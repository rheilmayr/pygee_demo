{
 "cells": [
  {
   "cell_type": "markdown",
   "metadata": {},
   "source": [
    "# Cloud free mosaics from different sensors"
   ]
  },
  {
   "cell_type": "markdown",
   "metadata": {},
   "source": [
    "Import dependencies"
   ]
  },
  {
   "cell_type": "code",
   "execution_count": 2,
   "metadata": {
    "collapsed": false
   },
   "outputs": [],
   "source": [
    "docker_dir = '/rheil/notebooks/'\n",
    "### Note: docker_dir is set when you call your docker command. In my case define this directory by calling:\n",
    "### docker run -d -p 8888:8888 --name gee_demo -v /c/Users/rheil/code_repos/jupyter_gee_demo/:/rheil/notebooks -w /rheil/tylere/docker-debian-python3-scipy-notebook\n",
    "### the cloud_mask.py file (and any other modules I'd want) are stored in this base directory on the virtual machine\n",
    "\n",
    "from IPython.display import Image\n",
    "import ee\n",
    "ee.Initialize()\n",
    "import sys \n",
    "sys.path.append(docker_dir)\n",
    "import cloud_mask"
   ]
  },
  {
   "cell_type": "markdown",
   "metadata": {},
   "source": [
    "Get bounding region"
   ]
  },
  {
   "cell_type": "code",
   "execution_count": 3,
   "metadata": {
    "collapsed": true
   },
   "outputs": [],
   "source": [
    "gar_plots = ee.FeatureCollection(\"ft:14iW585uXib6e89dJyzeNUAXUDpKZECmdvnh4Igbi\")\n",
    "plots = gar_plots\n",
    "study_area = plots.geometry().bounds()\n",
    "bounds = study_area.getInfo()['coordinates']"
   ]
  },
  {
   "cell_type": "markdown",
   "metadata": {},
   "source": [
    "Load Landsat 5 image collection"
   ]
  },
  {
   "cell_type": "code",
   "execution_count": 4,
   "metadata": {
    "collapsed": false
   },
   "outputs": [],
   "source": [
    "ic = ee.ImageCollection('LANDSAT/LT5_L1T_TOA_FMASK')"
   ]
  },
  {
   "cell_type": "markdown",
   "metadata": {},
   "source": [
    "Filter by dates and study area"
   ]
  },
  {
   "cell_type": "code",
   "execution_count": 5,
   "metadata": {
    "collapsed": true
   },
   "outputs": [],
   "source": [
    "ic = ic.filterDate('2010-01-01', '2016-06-01')\n",
    "ic = ic.filterBounds(study_area)"
   ]
  },
  {
   "cell_type": "markdown",
   "metadata": {},
   "source": [
    "Display first image"
   ]
  },
  {
   "cell_type": "code",
   "execution_count": 6,
   "metadata": {
    "collapsed": false
   },
   "outputs": [
    {
     "data": {
      "text/html": [
       "<img src=\"https://earthengine.googleapis.com//api/thumb?thumbid=7ce7e10316c2c067e71c8662ad74144f&token=9fe6b6667c3dca53aba81fcacd49ae45\"/>"
      ],
      "text/plain": [
       "<IPython.core.display.Image object>"
      ]
     },
     "execution_count": 6,
     "metadata": {},
     "output_type": "execute_result"
    }
   ],
   "source": [
    "img = ee.Image(ic.first())\n",
    "Image(url=img.select(['B4', 'B5', 'B3']).getThumbUrl({'min':0, 'max':.6, 'region': bounds})) "
   ]
  },
  {
   "cell_type": "markdown",
   "metadata": {},
   "source": [
    "Mask clouds, create ndvi band and rename all bands"
   ]
  },
  {
   "cell_type": "code",
   "execution_count": 7,
   "metadata": {
    "collapsed": true
   },
   "outputs": [],
   "source": [
    "ic_prepper = cloud_mask.prep_ic('l5', 'toa_fmask')\n",
    "ic = ic.map(ic_prepper)"
   ]
  },
  {
   "cell_type": "markdown",
   "metadata": {},
   "source": [
    "Create cloud free mosaic and display"
   ]
  },
  {
   "cell_type": "code",
   "execution_count": 8,
   "metadata": {
    "collapsed": false
   },
   "outputs": [
    {
     "data": {
      "text/html": [
       "<img src=\"https://earthengine.googleapis.com//api/thumb?thumbid=b8f4fe4c59ad17ace5f20d505c9504fa&token=b0d8e36130bbcc8b4807c8ca9338846d\"/>"
      ],
      "text/plain": [
       "<IPython.core.display.Image object>"
      ]
     },
     "execution_count": 8,
     "metadata": {},
     "output_type": "execute_result"
    }
   ],
   "source": [
    "img = ic.qualityMosaic('ndvi')\n",
    "Image(url=img.select(['nir', 'swir1', 'red']).getThumbUrl({'min':0, 'max':.6, 'region': bounds})) "
   ]
  },
  {
   "cell_type": "markdown",
   "metadata": {},
   "source": [
    "Repeat with landsat 8"
   ]
  },
  {
   "cell_type": "code",
   "execution_count": 9,
   "metadata": {
    "collapsed": false
   },
   "outputs": [
    {
     "data": {
      "text/html": [
       "<img src=\"https://earthengine.googleapis.com//api/thumb?thumbid=c79a1d6de6a32f5eb7d4d9cc35811c89&token=ee8de38eb317d3f470eb2c22a2f43a0a\"/>"
      ],
      "text/plain": [
       "<IPython.core.display.Image object>"
      ]
     },
     "execution_count": 9,
     "metadata": {},
     "output_type": "execute_result"
    }
   ],
   "source": [
    "ic = ee.ImageCollection('LANDSAT/LC8_L1T_TOA_FMASK')\n",
    "ic_prepper = cloud_mask.prep_ic('l8', 'toa_fmask')\n",
    "ic = ic.filterDate('2010-01-01', '2016-06-01')\n",
    "ic = ic.filterBounds(study_area)\n",
    "ic = ic.map(ic_prepper)\n",
    "img = ic.qualityMosaic('ndvi')\n",
    "Image(url=img.select(['nir', 'swir1', 'red']).getThumbUrl({'min':0, 'max':.6, 'region': bounds})) "
   ]
  },
  {
   "cell_type": "markdown",
   "metadata": {},
   "source": [
    "Repeat with Sentinel"
   ]
  },
  {
   "cell_type": "code",
   "execution_count": 10,
   "metadata": {
    "collapsed": false
   },
   "outputs": [
    {
     "data": {
      "text/html": [
       "<img src=\"https://earthengine.googleapis.com//api/thumb?thumbid=39944142be748964dc3189eaeab9a9f2&token=10f5fce607bc0a36d3c7756b2b7c307e\"/>"
      ],
      "text/plain": [
       "<IPython.core.display.Image object>"
      ]
     },
     "execution_count": 10,
     "metadata": {},
     "output_type": "execute_result"
    }
   ],
   "source": [
    "ic = ee.ImageCollection('COPERNICUS/S2')\n",
    "ic_prepper = cloud_mask.prep_ic('s2', 'sentinel')\n",
    "ic = ic.filterDate('2010-01-01', '2016-06-01')\n",
    "ic = ic.filterBounds(study_area)\n",
    "ic = ic.map(ic_prepper)\n",
    "img = ic.qualityMosaic('ndvi')\n",
    "Image(url=img.select(['nir', 'swir1', 'red']).getThumbUrl({'min':600, 'max': 5000, 'region': bounds})) "
   ]
  },
  {
   "cell_type": "code",
   "execution_count": null,
   "metadata": {
    "collapsed": true
   },
   "outputs": [],
   "source": []
  }
 ],
 "metadata": {
  "kernelspec": {
   "display_name": "Python 3",
   "language": "python",
   "name": "python3"
  },
  "language_info": {
   "codemirror_mode": {
    "name": "ipython",
    "version": 3
   },
   "file_extension": ".py",
   "mimetype": "text/x-python",
   "name": "python",
   "nbconvert_exporter": "python",
   "pygments_lexer": "ipython3",
   "version": "3.5.1"
  },
  "widgets": {
   "state": {},
   "version": "1.1.2"
  }
 },
 "nbformat": 4,
 "nbformat_minor": 0
}
